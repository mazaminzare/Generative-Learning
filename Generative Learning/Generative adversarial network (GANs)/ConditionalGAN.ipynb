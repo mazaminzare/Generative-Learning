{
  "nbformat": 4,
  "nbformat_minor": 0,
  "metadata": {
    "colab": {
      "provenance": [],
      "gpuType": "T4"
    },
    "kernelspec": {
      "name": "python3",
      "display_name": "Python 3"
    },
    "language_info": {
      "name": "python"
    },
    "accelerator": "GPU"
  },
  "cells": [
    {
      "cell_type": "code",
      "source": [
        "!pip install -q git+https://github.com/tensorflow/docs\n"
      ],
      "metadata": {
        "colab": {
          "base_uri": "https://localhost:8080/"
        },
        "id": "l4JaJ6QBERJw",
        "outputId": "24449df7-81d3-4528-b1f4-13b80ef56a42"
      },
      "execution_count": 2,
      "outputs": [
        {
          "output_type": "stream",
          "name": "stdout",
          "text": [
            "  Preparing metadata (setup.py) ... \u001b[?25l\u001b[?25hdone\n",
            "  Building wheel for tensorflow-docs (setup.py) ... \u001b[?25l\u001b[?25hdone\n"
          ]
        }
      ]
    },
    {
      "cell_type": "code",
      "execution_count": 18,
      "metadata": {
        "id": "vjdgpXg4Dhm2"
      },
      "outputs": [],
      "source": [
        "from tensorflow import keras\n",
        "from tensorflow.keras import layers\n",
        "\n",
        "from tensorflow_docs.vis import embed\n",
        "import tensorflow as tf\n",
        "import numpy as np\n",
        "import imageio\n",
        "import matplotlib.pyplot as plt\n"
      ]
    },
    {
      "cell_type": "code",
      "source": [
        "batch_size = 64\n",
        "num_channels = 1\n",
        "num_classes = 10\n",
        "image_size = 28\n",
        "latent_dim = 128"
      ],
      "metadata": {
        "id": "efWopuREDiWp"
      },
      "execution_count": 4,
      "outputs": []
    },
    {
      "cell_type": "code",
      "source": [
        "# We'll use all the available examples from both the training and test\n",
        "# sets.\n",
        "(x_train, y_train), (x_test, y_test) = keras.datasets.mnist.load_data()\n",
        "all_digits = np.concatenate([x_train, x_test])\n",
        "all_labels = np.concatenate([y_train, y_test])\n",
        "\n",
        "# Scale the pixel values to [0, 1] range, add a channel dimension to\n",
        "# the images, and one-hot encode the labels.\n",
        "all_digits = all_digits.astype(\"float32\") / 255.0\n",
        "all_digits = np.reshape(all_digits, (-1, 28, 28, 1))\n",
        "all_labels = keras.utils.to_categorical(all_labels, 10)\n",
        "\n",
        "# Create tf.data.Dataset.\n",
        "dataset = tf.data.Dataset.from_tensor_slices((all_digits, all_labels))\n",
        "dataset = dataset.shuffle(buffer_size=1024).batch(batch_size)\n",
        "\n",
        "print(f\"Shape of training images: {all_digits.shape}\")\n",
        "print(f\"Shape of training labels: {all_labels.shape}\")"
      ],
      "metadata": {
        "colab": {
          "base_uri": "https://localhost:8080/"
        },
        "id": "LD6dsfVmDjJ4",
        "outputId": "1935d995-b069-4186-8968-76bd8241bb77"
      },
      "execution_count": 5,
      "outputs": [
        {
          "output_type": "stream",
          "name": "stdout",
          "text": [
            "Downloading data from https://storage.googleapis.com/tensorflow/tf-keras-datasets/mnist.npz\n",
            "11490434/11490434 [==============================] - 2s 0us/step\n",
            "Shape of training images: (70000, 28, 28, 1)\n",
            "Shape of training labels: (70000, 10)\n"
          ]
        }
      ]
    },
    {
      "cell_type": "code",
      "source": [
        "generator_in_channels = latent_dim + num_classes\n",
        "discriminator_in_channels = num_channels + num_classes\n",
        "print(generator_in_channels, discriminator_in_channels)"
      ],
      "metadata": {
        "colab": {
          "base_uri": "https://localhost:8080/"
        },
        "id": "xCMRqqWwDlb4",
        "outputId": "c1c01db0-cfcc-48ca-ad97-0a1d8ea4b1ec"
      },
      "execution_count": 6,
      "outputs": [
        {
          "output_type": "stream",
          "name": "stdout",
          "text": [
            "138 11\n"
          ]
        }
      ]
    },
    {
      "cell_type": "code",
      "source": [
        "# Create the discriminator.\n",
        "discriminator = keras.Sequential(\n",
        "    [\n",
        "        keras.layers.InputLayer((28, 28, discriminator_in_channels)),\n",
        "        layers.Conv2D(64, (3, 3), strides=(2, 2), padding=\"same\"),\n",
        "        layers.LeakyReLU(alpha=0.2),\n",
        "        layers.Conv2D(128, (3, 3), strides=(2, 2), padding=\"same\"),\n",
        "        layers.LeakyReLU(alpha=0.2),\n",
        "        layers.GlobalMaxPooling2D(),\n",
        "        layers.Dense(1),\n",
        "    ],\n",
        "    name=\"discriminator\",\n",
        ")\n",
        "\n",
        "# Create the generator.\n",
        "generator = keras.Sequential(\n",
        "    [\n",
        "        keras.layers.InputLayer((generator_in_channels,)),\n",
        "        # We want to generate 128 + num_classes coefficients to reshape into a\n",
        "        # 7x7x(128 + num_classes) map.\n",
        "        layers.Dense(7 * 7 * generator_in_channels),\n",
        "        layers.LeakyReLU(alpha=0.2),\n",
        "        layers.Reshape((7, 7, generator_in_channels)),\n",
        "        layers.Conv2DTranspose(128, (4, 4), strides=(2, 2), padding=\"same\"),\n",
        "        layers.LeakyReLU(alpha=0.2),\n",
        "        layers.Conv2DTranspose(128, (4, 4), strides=(2, 2), padding=\"same\"),\n",
        "        layers.LeakyReLU(alpha=0.2),\n",
        "        layers.Conv2D(1, (7, 7), padding=\"same\", activation=\"sigmoid\"),\n",
        "    ],\n",
        "    name=\"generator\",\n",
        ")\n"
      ],
      "metadata": {
        "id": "hLV90KV7Dn_I"
      },
      "execution_count": 7,
      "outputs": []
    },
    {
      "cell_type": "code",
      "source": [
        "class ConditionalGAN(keras.Model):\n",
        "    def __init__(self, discriminator, generator, latent_dim):\n",
        "        super().__init__()\n",
        "        self.discriminator = discriminator\n",
        "        self.generator = generator\n",
        "        self.latent_dim = latent_dim\n",
        "        self.gen_loss_tracker = keras.metrics.Mean(name=\"generator_loss\")\n",
        "        self.disc_loss_tracker = keras.metrics.Mean(name=\"discriminator_loss\")\n",
        "\n",
        "    @property\n",
        "    def metrics(self):\n",
        "        return [self.gen_loss_tracker, self.disc_loss_tracker]\n",
        "\n",
        "    def compile(self, d_optimizer, g_optimizer, loss_fn):\n",
        "        super().compile()\n",
        "        self.d_optimizer = d_optimizer\n",
        "        self.g_optimizer = g_optimizer\n",
        "        self.loss_fn = loss_fn\n",
        "\n",
        "    def train_step(self, data):\n",
        "        # Unpack the data.\n",
        "        real_images, one_hot_labels = data\n",
        "\n",
        "        # Add dummy dimensions to the labels so that they can be concatenated with\n",
        "        # the images. This is for the discriminator.\n",
        "        image_one_hot_labels = one_hot_labels[:, :, None, None]\n",
        "        image_one_hot_labels = tf.repeat(\n",
        "            image_one_hot_labels, repeats=[image_size * image_size]\n",
        "        )\n",
        "        image_one_hot_labels = tf.reshape(\n",
        "            image_one_hot_labels, (-1, image_size, image_size, num_classes)\n",
        "        )\n",
        "\n",
        "        # Sample random points in the latent space and concatenate the labels.\n",
        "        # This is for the generator.\n",
        "        batch_size = tf.shape(real_images)[0]\n",
        "        random_latent_vectors = tf.random.normal(shape=(batch_size, self.latent_dim))\n",
        "        random_vector_labels = tf.concat(\n",
        "            [random_latent_vectors, one_hot_labels], axis=1\n",
        "        )\n",
        "\n",
        "        # Decode the noise (guided by labels) to fake images.\n",
        "        generated_images = self.generator(random_vector_labels)\n",
        "\n",
        "        # Combine them with real images. Note that we are concatenating the labels\n",
        "        # with these images here.\n",
        "        fake_image_and_labels = tf.concat([generated_images, image_one_hot_labels], -1)\n",
        "        real_image_and_labels = tf.concat([real_images, image_one_hot_labels], -1)\n",
        "        combined_images = tf.concat(\n",
        "            [fake_image_and_labels, real_image_and_labels], axis=0\n",
        "        )\n",
        "\n",
        "        # Assemble labels discriminating real from fake images.\n",
        "        labels = tf.concat(\n",
        "            [tf.ones((batch_size, 1)), tf.zeros((batch_size, 1))], axis=0\n",
        "        )\n",
        "\n",
        "        # Train the discriminator.\n",
        "        with tf.GradientTape() as tape:\n",
        "            predictions = self.discriminator(combined_images)\n",
        "            d_loss = self.loss_fn(labels, predictions)\n",
        "        grads = tape.gradient(d_loss, self.discriminator.trainable_weights)\n",
        "        self.d_optimizer.apply_gradients(\n",
        "            zip(grads, self.discriminator.trainable_weights)\n",
        "        )\n",
        "\n",
        "        # Sample random points in the latent space.\n",
        "        random_latent_vectors = tf.random.normal(shape=(batch_size, self.latent_dim))\n",
        "        random_vector_labels = tf.concat(\n",
        "            [random_latent_vectors, one_hot_labels], axis=1\n",
        "        )\n",
        "\n",
        "        # Assemble labels that say \"all real images\".\n",
        "        misleading_labels = tf.zeros((batch_size, 1))\n",
        "\n",
        "        # Train the generator (note that we should *not* update the weights\n",
        "        # of the discriminator)!\n",
        "        with tf.GradientTape() as tape:\n",
        "            fake_images = self.generator(random_vector_labels)\n",
        "            fake_image_and_labels = tf.concat([fake_images, image_one_hot_labels], -1)\n",
        "            predictions = self.discriminator(fake_image_and_labels)\n",
        "            g_loss = self.loss_fn(misleading_labels, predictions)\n",
        "        grads = tape.gradient(g_loss, self.generator.trainable_weights)\n",
        "        self.g_optimizer.apply_gradients(zip(grads, self.generator.trainable_weights))\n",
        "\n",
        "        # Monitor loss.\n",
        "        self.gen_loss_tracker.update_state(g_loss)\n",
        "        self.disc_loss_tracker.update_state(d_loss)\n",
        "        return {\n",
        "            \"g_loss\": self.gen_loss_tracker.result(),\n",
        "            \"d_loss\": self.disc_loss_tracker.result(),\n",
        "        }"
      ],
      "metadata": {
        "id": "iWliOaFSD4Go"
      },
      "execution_count": 8,
      "outputs": []
    },
    {
      "cell_type": "code",
      "source": [
        "cond_gan = ConditionalGAN(\n",
        "    discriminator=discriminator, generator=generator, latent_dim=latent_dim\n",
        ")\n",
        "cond_gan.compile(\n",
        "    d_optimizer=keras.optimizers.Adam(learning_rate=0.0003),\n",
        "    g_optimizer=keras.optimizers.Adam(learning_rate=0.0003),\n",
        "    loss_fn=keras.losses.BinaryCrossentropy(from_logits=True),\n",
        ")\n",
        "\n",
        "cond_gan.fit(dataset, epochs=20)"
      ],
      "metadata": {
        "colab": {
          "base_uri": "https://localhost:8080/"
        },
        "id": "V0Oz9yoHD5ky",
        "outputId": "9c246943-9784-4fab-b57d-ee0a8f28f9fd"
      },
      "execution_count": 9,
      "outputs": [
        {
          "output_type": "stream",
          "name": "stdout",
          "text": [
            "Epoch 1/20\n",
            "1094/1094 [==============================] - 49s 28ms/step - g_loss: 1.6191 - d_loss: 0.4162\n",
            "Epoch 2/20\n",
            "1094/1094 [==============================] - 31s 28ms/step - g_loss: 1.4165 - d_loss: 0.4938\n",
            "Epoch 3/20\n",
            "1094/1094 [==============================] - 31s 28ms/step - g_loss: 1.7007 - d_loss: 0.3982\n",
            "Epoch 4/20\n",
            "1094/1094 [==============================] - 31s 28ms/step - g_loss: 1.9728 - d_loss: 0.3042\n",
            "Epoch 5/20\n",
            "1094/1094 [==============================] - 31s 28ms/step - g_loss: 2.3013 - d_loss: 0.2492\n",
            "Epoch 6/20\n",
            "1094/1094 [==============================] - 31s 28ms/step - g_loss: 1.1038 - d_loss: 0.6065\n",
            "Epoch 7/20\n",
            "1094/1094 [==============================] - 32s 30ms/step - g_loss: 0.9160 - d_loss: 0.6570\n",
            "Epoch 8/20\n",
            "1094/1094 [==============================] - 34s 31ms/step - g_loss: 0.8342 - d_loss: 0.6680\n",
            "Epoch 9/20\n",
            "1094/1094 [==============================] - 34s 31ms/step - g_loss: 0.8102 - d_loss: 0.6703\n",
            "Epoch 10/20\n",
            "1094/1094 [==============================] - 31s 28ms/step - g_loss: 0.7729 - d_loss: 0.6766\n",
            "Epoch 11/20\n",
            "1094/1094 [==============================] - 31s 28ms/step - g_loss: 0.7967 - d_loss: 0.6702\n",
            "Epoch 12/20\n",
            "1094/1094 [==============================] - 31s 28ms/step - g_loss: 0.7598 - d_loss: 0.6845\n",
            "Epoch 13/20\n",
            "1094/1094 [==============================] - 31s 28ms/step - g_loss: 0.7558 - d_loss: 0.6789\n",
            "Epoch 14/20\n",
            "1094/1094 [==============================] - 31s 28ms/step - g_loss: 0.7525 - d_loss: 0.6820\n",
            "Epoch 15/20\n",
            "1094/1094 [==============================] - 31s 29ms/step - g_loss: 0.7580 - d_loss: 0.6790\n",
            "Epoch 16/20\n",
            "1094/1094 [==============================] - 31s 28ms/step - g_loss: 0.7772 - d_loss: 0.6735\n",
            "Epoch 17/20\n",
            "1094/1094 [==============================] - 31s 29ms/step - g_loss: 0.7632 - d_loss: 0.6710\n",
            "Epoch 18/20\n",
            "1094/1094 [==============================] - 31s 28ms/step - g_loss: 0.7711 - d_loss: 0.6733\n",
            "Epoch 19/20\n",
            "1094/1094 [==============================] - 31s 28ms/step - g_loss: 0.7908 - d_loss: 0.6602\n",
            "Epoch 20/20\n",
            "1094/1094 [==============================] - 31s 28ms/step - g_loss: 0.7913 - d_loss: 0.6572\n"
          ]
        },
        {
          "output_type": "execute_result",
          "data": {
            "text/plain": [
              "<keras.callbacks.History at 0x7ef14812a740>"
            ]
          },
          "metadata": {},
          "execution_count": 9
        }
      ]
    },
    {
      "cell_type": "code",
      "source": [
        "# We first extract the trained generator from our Conditional GAN.\n",
        "trained_gen = cond_gan.generator\n",
        "\n",
        "# Choose the number of intermediate images that would be generated in\n",
        "# between the interpolation + 2 (start and last images).\n",
        "num_interpolation = 9  # @param {type:\"integer\"}\n",
        "\n",
        "# Sample noise for the interpolation.\n",
        "interpolation_noise = tf.random.normal(shape=(1, latent_dim))\n",
        "interpolation_noise = tf.repeat(interpolation_noise, repeats=num_interpolation)\n",
        "interpolation_noise = tf.reshape(interpolation_noise, (num_interpolation, latent_dim))\n",
        "\n",
        "\n",
        "def interpolate_class(first_number, second_number):\n",
        "    # Convert the start and end labels to one-hot encoded vectors.\n",
        "    first_label = keras.utils.to_categorical([first_number], num_classes)\n",
        "    second_label = keras.utils.to_categorical([second_number], num_classes)\n",
        "    first_label = tf.cast(first_label, tf.float32)\n",
        "    second_label = tf.cast(second_label, tf.float32)\n",
        "\n",
        "    # Calculate the interpolation vector between the two labels.\n",
        "    percent_second_label = tf.linspace(0, 1, num_interpolation)[:, None]\n",
        "    percent_second_label = tf.cast(percent_second_label, tf.float32)\n",
        "    interpolation_labels = (\n",
        "        first_label * (1 - percent_second_label) + second_label * percent_second_label\n",
        "    )\n",
        "\n",
        "    # Combine the noise and the labels and run inference with the generator.\n",
        "    noise_and_labels = tf.concat([interpolation_noise, interpolation_labels], 1)\n",
        "    fake = trained_gen.predict(noise_and_labels)\n",
        "    return fake\n",
        "\n",
        "\n",
        "start_class = 1  # @param {type:\"slider\", min:0, max:9, step:1}\n",
        "end_class = 5  # @param {type:\"slider\", min:0, max:9, step:1}\n",
        "\n",
        "fake_images = interpolate_class(start_class, end_class)"
      ],
      "metadata": {
        "colab": {
          "base_uri": "https://localhost:8080/"
        },
        "id": "QJpK5EDAD-41",
        "outputId": "bb4c51c2-3d72-4cc6-fc7b-c34bce8e4907"
      },
      "execution_count": 10,
      "outputs": [
        {
          "output_type": "stream",
          "name": "stdout",
          "text": [
            "1/1 [==============================] - 0s 235ms/step\n"
          ]
        }
      ]
    },
    {
      "cell_type": "code",
      "source": [
        "fake_images *= 255.0\n",
        "converted_images = fake_images.astype(np.uint8)\n",
        "converted_images = tf.image.resize(converted_images, (96, 96)).numpy().astype(np.uint8)\n",
        "imageio.mimsave(\"animation.gif\", converted_images, fps=1)\n",
        "embed.embed_file(\"animation.gif\")"
      ],
      "metadata": {
        "id": "n5vXos39JFFA"
      },
      "execution_count": null,
      "outputs": []
    },
    {
      "cell_type": "markdown",
      "source": [
        "we can further use CGAN for Image-to-image translation\n",
        "by put a condition on some input image."
      ],
      "metadata": {
        "id": "5YvtHex_Fex6"
      }
    }
  ]
}